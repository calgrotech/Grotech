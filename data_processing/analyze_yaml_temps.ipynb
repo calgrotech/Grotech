{
 "cells": [
  {
   "cell_type": "code",
   "execution_count": 1,
   "metadata": {},
   "outputs": [],
   "source": [
    "import os\n",
    "import yaml\n",
    "import glob\n",
    "\n",
    "import statistics\n",
    "import numpy as np"
   ]
  },
  {
   "cell_type": "code",
   "execution_count": 2,
   "metadata": {},
   "outputs": [],
   "source": [
    "yaml_paths = glob.iglob(f\"{os.getcwd()}/*.yaml\")\n",
    "yaml_dicts = [yaml.safe_load(open(yaml_path, \"r\")) for yaml_path in yaml_paths]\n",
    "\n",
    "med_sensor_readings = []\n",
    "for yaml_sub_dict in yaml_dicts:\n",
    "    list_of_sensor_outs = [dict_of_sensors for dict_of_sensors in yaml_sub_dict.values()]\n",
    "    all_sensor_outs = [list(sensor_dict.values()) for sensor_dict in list_of_sensor_outs]\n",
    "    med_sensor_outs = map(lambda outs: statistics.median(map(float, outs)), all_sensor_outs)\n",
    "    med_sensor_readings.append(med_sensor_outs)\n",
    "\n",
    "flat_sensor_readings = [reading for daily_reads in med_sensor_readings\n",
    "                            for reading in daily_reads]"
   ]
  },
  {
   "cell_type": "code",
   "execution_count": 3,
   "metadata": {},
   "outputs": [
    {
     "data": {
      "text/plain": [
       "array([14.658, 15.178, 16.215, 16.991])"
      ]
     },
     "execution_count": 3,
     "metadata": {},
     "output_type": "execute_result"
    }
   ],
   "source": [
    "readings = flat_sensor_readings\n",
    "np.nanpercentile(readings, [5, 10, 25, 50])"
   ]
  }
 ],
 "metadata": {
  "kernelspec": {
   "display_name": "Python 3",
   "language": "python",
   "name": "python3"
  },
  "language_info": {
   "codemirror_mode": {
    "name": "ipython",
    "version": 3
   },
   "file_extension": ".py",
   "mimetype": "text/x-python",
   "name": "python",
   "nbconvert_exporter": "python",
   "pygments_lexer": "ipython3",
   "version": "3.7.3"
  }
 },
 "nbformat": 4,
 "nbformat_minor": 2
}
